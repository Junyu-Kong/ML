{
 "cells": [
  {
   "cell_type": "code",
   "execution_count": 2,
   "id": "07af2ab4",
   "metadata": {},
   "outputs": [],
   "source": [
    "import tensorflow as tf\n",
    "from PIL import Image\n",
    "import numpy as np\n",
    "import os\n",
    "from matplotlib import pyplot as plt\n",
    "from tensorflow.keras.layers import Conv2D, BatchNormalization, Activation, MaxPool2D, Dropout, Flatten, Dense\n",
    "from tensorflow.keras import Model"
   ]
  },
  {
   "cell_type": "code",
   "execution_count": 12,
   "id": "6d248a80",
   "metadata": {},
   "outputs": [],
   "source": [
    "train_path = './jhu_crowd/train/images/'\n",
    "train_txt = './jhu_crowd/train/image_labels.txt'\n",
    "x_train_savepath = './image_label/x_train.npy'\n",
    "y_train_savepath = './image_label/y_train.npy'\n",
    "\n",
    "test_path = './jhu_crowd/test/images/'\n",
    "test_txt = './jhu_crowd/test/image_labels.txt'\n",
    "x_test_savepath = './image_label/x_test.npy'\n",
    "y_test_savepath = './image_label/y_test.npy'"
   ]
  },
  {
   "cell_type": "code",
   "execution_count": 7,
   "id": "5c288c6b",
   "metadata": {},
   "outputs": [],
   "source": [
    "def generateds(path, txt):\n",
    "    f = open(txt, 'r')\n",
    "    contents = f.readlines()\n",
    "    f.close()\n",
    "    x, y_ = [], []\n",
    "    for content in contents:\n",
    "        value = content.split(',')\n",
    "        img_path = path + value[0] + '.jpg'\n",
    "        img = Image.open(img_path)\n",
    "        img = img.resize((96, 96))\n",
    "        img = np.reshape(np.array(img.convert('L')), (96, 96, 1))\n",
    "        img = img / 255.\n",
    "        x.append(img)\n",
    "        y_.append(value[1])\n",
    "\n",
    "    x = np.array(x)\n",
    "    y_ = np.array(y_)\n",
    "    y_ = y_.astype(np.int64)\n",
    "    return x, y_"
   ]
  },
  {
   "cell_type": "code",
   "execution_count": 13,
   "id": "e2191697",
   "metadata": {
    "scrolled": false
   },
   "outputs": [
    {
     "name": "stdout",
     "output_type": "stream",
     "text": [
      "-------------Load Datasets-----------------\n"
     ]
    }
   ],
   "source": [
    "if os.path.exists(x_train_savepath) and os.path.exists(y_train_savepath) and os.path.exists(\n",
    "        x_test_savepath) and os.path.exists(y_test_savepath):\n",
    "    print('-------------Load Datasets-----------------')\n",
    "    x_train_save = np.load(x_train_savepath)\n",
    "    y_train = np.load(y_train_savepath)\n",
    "    x_test_save = np.load(x_test_savepath)\n",
    "    y_test = np.load(y_test_savepath)\n",
    "    x_train = np.reshape(x_train_save, (len(x_train_save), 96, 96, 1))\n",
    "    x_test = np.reshape(x_test_save, (len(x_test_save), 96, 96, 1))\n",
    "else:\n",
    "    print('-------------Generate Datasets-----------------')\n",
    "    x_train, y_train = generateds(train_path, train_txt)\n",
    "    x_test, y_test = generateds(test_path, test_txt)\n",
    "\n",
    "    print('-------------Save Datasets-----------------')\n",
    "    x_train_save = np.reshape(x_train, (len(x_train), -1))\n",
    "    x_test_save = np.reshape(x_test, (len(x_test), -1))\n",
    "    np.save(x_train_savepath, x_train_save)\n",
    "    np.save(y_train_savepath, y_train)\n",
    "    np.save(x_test_savepath, x_test_save)\n",
    "    np.save(y_test_savepath, y_test)"
   ]
  },
  {
   "cell_type": "code",
   "execution_count": 4,
   "id": "086aec71",
   "metadata": {},
   "outputs": [],
   "source": [
    "class ResnetBlock(Model):\n",
    "\n",
    "    def __init__(self, filters, strides=1, residual_path=False):\n",
    "        super(ResnetBlock, self).__init__()\n",
    "        self.filters = filters\n",
    "        self.strides = strides\n",
    "        self.residual_path = residual_path\n",
    "\n",
    "        self.c1 = Conv2D(filters, (3, 3), strides=strides, padding='same', use_bias=False)\n",
    "        self.b1 = BatchNormalization()\n",
    "        self.a1 = Activation('relu')\n",
    "\n",
    "        self.c2 = Conv2D(filters, (3, 3), strides=1, padding='same', use_bias=False)\n",
    "        self.b2 = BatchNormalization()\n",
    "\n",
    "        if residual_path:\n",
    "            self.down_c1 = Conv2D(filters, (1, 1), strides=strides, padding='same', use_bias=False)\n",
    "            self.down_b1 = BatchNormalization()\n",
    "        \n",
    "        self.a2 = Activation('relu')\n",
    "\n",
    "    def call(self, inputs):\n",
    "        residual = inputs\n",
    "        x = self.c1(inputs)\n",
    "        x = self.b1(x)\n",
    "        x = self.a1(x)\n",
    "\n",
    "        x = self.c2(x)\n",
    "        y = self.b2(x)\n",
    "\n",
    "        if self.residual_path:\n",
    "            residual = self.down_c1(inputs)\n",
    "            residual = self.down_b1(residual)\n",
    "\n",
    "        out = self.a2(y + residual)\n",
    "        return out\n",
    "\n",
    "\n",
    "class ResNet18(Model):\n",
    "\n",
    "    def __init__(self, block_list, initial_filters=64):\n",
    "        super(ResNet18, self).__init__()\n",
    "        self.num_blocks = len(block_list)\n",
    "        self.block_list = block_list\n",
    "        self.out_filters = initial_filters\n",
    "        self.c1 = Conv2D(self.out_filters, (3, 3), strides=1, padding='same', use_bias=False)\n",
    "        self.b1 = BatchNormalization()\n",
    "        self.a1 = Activation('relu')\n",
    "        self.blocks = tf.keras.models.Sequential()\n",
    "\n",
    "        for block_id in range(len(block_list)):\n",
    "            for layer_id in range(block_list[block_id]):\n",
    "\n",
    "                if block_id != 0 and layer_id == 0:\n",
    "                    block = ResnetBlock(self.out_filters, strides=2, residual_path=True)\n",
    "                else:\n",
    "                    block = ResnetBlock(self.out_filters, residual_path=False)\n",
    "                self.blocks.add(block)\n",
    "            self.out_filters *= 2\n",
    "        self.p1 = tf.keras.layers.GlobalAveragePooling2D()\n",
    "        self.f1 = tf.keras.layers.Dense(1, activation='linear', kernel_regularizer=tf.keras.regularizers.l2())\n",
    "\n",
    "    def call(self, inputs):\n",
    "        x = self.c1(inputs)\n",
    "        x = self.b1(x)\n",
    "        x = self.a1(x)\n",
    "        x = self.blocks(x)\n",
    "        x = self.p1(x)\n",
    "        y = self.f1(x)\n",
    "        return y"
   ]
  },
  {
   "cell_type": "code",
   "execution_count": 26,
   "id": "b68ba777",
   "metadata": {},
   "outputs": [],
   "source": [
    "model = ResNet18([2, 2, 2, 2])\n",
    "\n",
    "model.compile(optimizer='adam',\n",
    "              loss='mean_squared_error',\n",
    "              metrics=['mae'])"
   ]
  },
  {
   "cell_type": "code",
   "execution_count": 27,
   "id": "04801bfb",
   "metadata": {},
   "outputs": [
    {
     "name": "stdout",
     "output_type": "stream",
     "text": [
      "-------------load the model-----------------\n"
     ]
    }
   ],
   "source": [
    "checkpoint_save_path = \"./checkpoint/ResNet18.ckpt\"\n",
    "if os.path.exists(checkpoint_save_path + '.index'):\n",
    "    print('-------------load the model-----------------')\n",
    "    model.load_weights(checkpoint_save_path)"
   ]
  },
  {
   "cell_type": "code",
   "execution_count": 17,
   "id": "c3de442b",
   "metadata": {
    "scrolled": true
   },
   "outputs": [
    {
     "name": "stdout",
     "output_type": "stream",
     "text": [
      "Epoch 1/50\n",
      "71/71 [==============================] - 216s 3s/step - loss: 1375127.7500 - mae: 355.4348 - val_loss: 613602.4375 - val_mae: 361.8345\n",
      "Epoch 2/50\n",
      "71/71 [==============================] - 219s 3s/step - loss: 1319062.7500 - mae: 337.1463 - val_loss: 18329252.0000 - val_mae: 4010.7681\n",
      "Epoch 3/50\n",
      "71/71 [==============================] - 217s 3s/step - loss: 1257111.5000 - mae: 325.1395 - val_loss: 1745324.0000 - val_mae: 918.4911\n",
      "Epoch 4/50\n",
      "71/71 [==============================] - 221s 3s/step - loss: 1187956.1250 - mae: 314.8762 - val_loss: 480407.1562 - val_mae: 306.6506\n",
      "Epoch 5/50\n",
      "71/71 [==============================] - 218s 3s/step - loss: 1103076.2500 - mae: 306.7122 - val_loss: 472907.2500 - val_mae: 331.3762\n",
      "Epoch 6/50\n",
      "71/71 [==============================] - 221s 3s/step - loss: 1092034.1250 - mae: 317.8212 - val_loss: 6919977.0000 - val_mae: 1927.7661\n",
      "Epoch 7/50\n",
      "71/71 [==============================] - 220s 3s/step - loss: 1037206.0000 - mae: 312.1949 - val_loss: 2324613.2500 - val_mae: 754.5697\n",
      "Epoch 8/50\n",
      "71/71 [==============================] - 219s 3s/step - loss: 994990.8750 - mae: 313.7984 - val_loss: 560293.8125 - val_mae: 407.3433\n",
      "Epoch 9/50\n",
      "71/71 [==============================] - 222s 3s/step - loss: 978951.8750 - mae: 312.3853 - val_loss: 523883.9062 - val_mae: 288.1539\n",
      "Epoch 10/50\n",
      "71/71 [==============================] - 223s 3s/step - loss: 1052817.2500 - mae: 336.8358 - val_loss: 455783.5312 - val_mae: 298.7189\n",
      "Epoch 11/50\n",
      "71/71 [==============================] - 222s 3s/step - loss: 1002943.3125 - mae: 325.9938 - val_loss: 541031.1875 - val_mae: 268.1006\n",
      "Epoch 12/50\n",
      "71/71 [==============================] - 221s 3s/step - loss: 984052.5000 - mae: 323.2633 - val_loss: 1974811.2500 - val_mae: 762.8832\n",
      "Epoch 13/50\n",
      "71/71 [==============================] - 224s 3s/step - loss: 916205.3125 - mae: 297.8896 - val_loss: 13923598.0000 - val_mae: 2650.1204\n",
      "Epoch 14/50\n",
      "71/71 [==============================] - 232s 3s/step - loss: 958779.6250 - mae: 311.0389 - val_loss: 613582.0625 - val_mae: 309.5840\n",
      "Epoch 15/50\n",
      "71/71 [==============================] - 224s 3s/step - loss: 984166.8750 - mae: 340.6863 - val_loss: 27655350.0000 - val_mae: 3925.3450\n",
      "Epoch 16/50\n",
      "71/71 [==============================] - 217s 3s/step - loss: 951200.8125 - mae: 322.8709 - val_loss: 513484.3125 - val_mae: 269.4865\n",
      "Epoch 17/50\n",
      "71/71 [==============================] - 220s 3s/step - loss: 940256.2500 - mae: 318.3075 - val_loss: 7138595.0000 - val_mae: 1811.4309\n",
      "Epoch 18/50\n",
      "71/71 [==============================] - 218s 3s/step - loss: 1007164.7500 - mae: 347.1882 - val_loss: 736122.1875 - val_mae: 498.0359\n",
      "Epoch 19/50\n",
      "71/71 [==============================] - 223s 3s/step - loss: 918539.6875 - mae: 310.3473 - val_loss: 3919785.0000 - val_mae: 1372.5820\n",
      "Epoch 20/50\n",
      "71/71 [==============================] - 222s 3s/step - loss: 868565.3750 - mae: 305.0167 - val_loss: 1646419.3750 - val_mae: 668.8022\n",
      "Epoch 21/50\n",
      "71/71 [==============================] - 216s 3s/step - loss: 847259.3750 - mae: 292.0926 - val_loss: 650043.5000 - val_mae: 397.5531\n",
      "Epoch 22/50\n",
      "71/71 [==============================] - 222s 3s/step - loss: 924595.2500 - mae: 340.8499 - val_loss: 531427.3125 - val_mae: 288.1707\n",
      "Epoch 23/50\n",
      "71/71 [==============================] - 217s 3s/step - loss: 982489.8125 - mae: 356.6622 - val_loss: 530898.9375 - val_mae: 270.1200\n",
      "Epoch 24/50\n",
      "71/71 [==============================] - 230s 3s/step - loss: 883910.8125 - mae: 321.6356 - val_loss: 1728763.8750 - val_mae: 694.5546\n",
      "Epoch 25/50\n",
      "71/71 [==============================] - 221s 3s/step - loss: 1010922.5000 - mae: 356.6066 - val_loss: 11034214.0000 - val_mae: 1865.0049\n",
      "Epoch 26/50\n",
      "71/71 [==============================] - 225s 3s/step - loss: 925853.0000 - mae: 340.1511 - val_loss: 461728.6250 - val_mae: 268.6540\n",
      "Epoch 27/50\n",
      "71/71 [==============================] - 220s 3s/step - loss: 844365.0625 - mae: 306.0249 - val_loss: 1716521.0000 - val_mae: 692.6796\n",
      "Epoch 28/50\n",
      "71/71 [==============================] - 222s 3s/step - loss: 784781.1250 - mae: 300.2323 - val_loss: 2327636.5000 - val_mae: 939.8638\n",
      "Epoch 29/50\n",
      "71/71 [==============================] - 228s 3s/step - loss: 754423.1875 - mae: 296.3252 - val_loss: 3922314.5000 - val_mae: 1533.9025\n",
      "Epoch 30/50\n",
      "71/71 [==============================] - 224s 3s/step - loss: 734727.0000 - mae: 294.4023 - val_loss: 448401.7500 - val_mae: 319.6256\n",
      "Epoch 31/50\n",
      "71/71 [==============================] - 223s 3s/step - loss: 715551.3750 - mae: 289.3003 - val_loss: 430522.1875 - val_mae: 262.8273\n",
      "Epoch 32/50\n",
      "71/71 [==============================] - 219s 3s/step - loss: 691634.5625 - mae: 284.6070 - val_loss: 387323.3750 - val_mae: 257.1830\n",
      "Epoch 33/50\n",
      "71/71 [==============================] - 227s 3s/step - loss: 656135.5000 - mae: 292.6661 - val_loss: 785088.5625 - val_mae: 455.0471\n",
      "Epoch 34/50\n",
      "71/71 [==============================] - 231s 3s/step - loss: 621677.1250 - mae: 274.6855 - val_loss: 1160180.3750 - val_mae: 563.4680\n",
      "Epoch 35/50\n",
      "71/71 [==============================] - 227s 3s/step - loss: 593561.3125 - mae: 263.0473 - val_loss: 518481.4375 - val_mae: 311.9421\n",
      "Epoch 36/50\n",
      "71/71 [==============================] - 222s 3s/step - loss: 726311.1875 - mae: 307.2891 - val_loss: 439209.5938 - val_mae: 271.8575\n",
      "Epoch 37/50\n",
      "71/71 [==============================] - 229s 3s/step - loss: 596918.7500 - mae: 278.8365 - val_loss: 941028.5000 - val_mae: 469.4919\n",
      "Epoch 38/50\n",
      "71/71 [==============================] - 218s 3s/step - loss: 565124.3750 - mae: 277.4507 - val_loss: 2822637.5000 - val_mae: 920.1746\n",
      "Epoch 39/50\n",
      "71/71 [==============================] - 225s 3s/step - loss: 480197.8438 - mae: 241.4205 - val_loss: 872024.8750 - val_mae: 486.9445\n",
      "Epoch 40/50\n",
      "71/71 [==============================] - 233s 3s/step - loss: 459721.9688 - mae: 234.6495 - val_loss: 451012.4062 - val_mae: 251.5538\n",
      "Epoch 41/50\n",
      "71/71 [==============================] - 221s 3s/step - loss: 437610.5938 - mae: 237.0881 - val_loss: 442703.7500 - val_mae: 260.7035\n",
      "Epoch 42/50\n",
      "71/71 [==============================] - 232s 3s/step - loss: 447945.8750 - mae: 237.7812 - val_loss: 1292432.7500 - val_mae: 575.0071\n",
      "Epoch 43/50\n",
      "71/71 [==============================] - 229s 3s/step - loss: 399330.3438 - mae: 215.1555 - val_loss: 456451.1562 - val_mae: 271.3269\n",
      "Epoch 44/50\n",
      "71/71 [==============================] - 228s 3s/step - loss: 353502.3438 - mae: 209.1662 - val_loss: 568648.3125 - val_mae: 341.6811\n",
      "Epoch 45/50\n",
      "71/71 [==============================] - 228s 3s/step - loss: 368441.9688 - mae: 210.1627 - val_loss: 1007662.8125 - val_mae: 460.7152\n",
      "Epoch 46/50\n",
      "71/71 [==============================] - 217s 3s/step - loss: 343997.2500 - mae: 197.9440 - val_loss: 427365.7188 - val_mae: 278.5634\n",
      "Epoch 47/50\n",
      "71/71 [==============================] - 220s 3s/step - loss: 330020.7812 - mae: 211.2393 - val_loss: 418804.4062 - val_mae: 237.7000\n",
      "Epoch 48/50\n",
      "71/71 [==============================] - 227s 3s/step - loss: 335829.4375 - mae: 198.2306 - val_loss: 420009.5625 - val_mae: 260.1505\n",
      "Epoch 49/50\n",
      "71/71 [==============================] - 218s 3s/step - loss: 287670.4375 - mae: 184.9060 - val_loss: 517797.5312 - val_mae: 335.4264\n",
      "Epoch 50/50\n",
      "71/71 [==============================] - 229s 3s/step - loss: 304417.0938 - mae: 193.1317 - val_loss: 724765.5000 - val_mae: 461.2070\n"
     ]
    }
   ],
   "source": [
    "cp_callback = tf.keras.callbacks.ModelCheckpoint(filepath=checkpoint_save_path,\n",
    "                                                 save_weights_only=True,\n",
    "                                                 save_best_only=True)\n",
    "\n",
    "history = model.fit(x_train, y_train, batch_size=32, epochs=50, validation_data=(x_test, y_test), validation_freq=1,\n",
    "                    callbacks=[cp_callback])"
   ]
  },
  {
   "cell_type": "code",
   "execution_count": 18,
   "id": "c915274c",
   "metadata": {
    "scrolled": false
   },
   "outputs": [
    {
     "name": "stdout",
     "output_type": "stream",
     "text": [
      "Model: \"res_net18_1\"\n",
      "_________________________________________________________________\n",
      " Layer (type)                Output Shape              Param #   \n",
      "=================================================================\n",
      " conv2d_20 (Conv2D)          multiple                  576       \n",
      "                                                                 \n",
      " batch_normalization_20 (Bat  multiple                 256       \n",
      " chNormalization)                                                \n",
      "                                                                 \n",
      " activation_17 (Activation)  multiple                  0         \n",
      "                                                                 \n",
      " sequential_1 (Sequential)   (32, 12, 12, 512)         11176448  \n",
      "                                                                 \n",
      " global_average_pooling2d_1   multiple                 0         \n",
      " (GlobalAveragePooling2D)                                        \n",
      "                                                                 \n",
      " dense_1 (Dense)             multiple                  513       \n",
      "                                                                 \n",
      "=================================================================\n",
      "Total params: 11,177,793\n",
      "Trainable params: 11,168,193\n",
      "Non-trainable params: 9,600\n",
      "_________________________________________________________________\n"
     ]
    }
   ],
   "source": [
    "model.summary()"
   ]
  },
  {
   "cell_type": "code",
   "execution_count": 19,
   "id": "d9577853",
   "metadata": {},
   "outputs": [],
   "source": [
    "file = open('./weights.txt', 'w')\n",
    "for v in model.trainable_variables:\n",
    "    file.write(str(v.name) + '\\n')\n",
    "    file.write(str(v.shape) + '\\n')\n",
    "    file.write(str(v.numpy()) + '\\n')\n",
    "file.close()"
   ]
  },
  {
   "cell_type": "code",
   "execution_count": 29,
   "id": "d7bfc80f",
   "metadata": {
    "scrolled": true
   },
   "outputs": [
    {
     "name": "stdout",
     "output_type": "stream",
     "text": [
      "50/50 [==============================] - 30s 599ms/step\n"
     ]
    }
   ],
   "source": [
    "test_img = []\n",
    "\n",
    "f = open('./jhu_crowd/test/image_labels.txt', 'r')\n",
    "contents = f.readlines()\n",
    "f.close()\n",
    "\n",
    "for content in contents:\n",
    "    value = content.split(',')\n",
    "    test_img.append(value[0] + '.jpg')\n",
    "\n",
    "test_prediction = model.predict(x_test)"
   ]
  },
  {
   "cell_type": "code",
   "execution_count": 56,
   "id": "21aad1d7",
   "metadata": {},
   "outputs": [],
   "source": [
    "import pandas as pd\n",
    "\n",
    "df = pd.DataFrame([test_img, np.reshape(test_prediction, (len(test_prediction)))]).T\n",
    "csv_file_path = './prediction.csv'\n",
    "df.to_csv(csv_file_path, index=False)"
   ]
  },
  {
   "cell_type": "code",
   "execution_count": 57,
   "id": "d3a0e167",
   "metadata": {},
   "outputs": [
    {
     "name": "stdout",
     "output_type": "stream",
     "text": [
      "                     mae_low , mse_low , mae_med , mse_med , mae_high , mse_high , mae_weather , mse_weather , mae_overall , mse_overall\n",
      "prediction           ,   141.4 ,   223.8 ,   138.5 ,   240.2 ,   931.2 ,  1512.4 ,        349.5 ,        842.0 ,      257.2 ,      622.4\n"
     ]
    }
   ],
   "source": [
    "!python ./eval_tool/jhucrowd_eval.py jhu_crowd prediction.csv test"
   ]
  }
 ],
 "metadata": {
  "kernelspec": {
   "display_name": "Python 3 (ipykernel)",
   "language": "python",
   "name": "python3"
  },
  "language_info": {
   "codemirror_mode": {
    "name": "ipython",
    "version": 3
   },
   "file_extension": ".py",
   "mimetype": "text/x-python",
   "name": "python",
   "nbconvert_exporter": "python",
   "pygments_lexer": "ipython3",
   "version": "3.9.17"
  }
 },
 "nbformat": 4,
 "nbformat_minor": 5
}
